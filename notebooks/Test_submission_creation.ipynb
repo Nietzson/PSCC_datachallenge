{
 "cells": [
  {
   "cell_type": "code",
   "execution_count": 19,
   "id": "698c2d99",
   "metadata": {
    "ExecuteTime": {
     "end_time": "2023-11-09T10:56:02.727185Z",
     "start_time": "2023-11-09T10:56:02.681716Z"
    }
   },
   "outputs": [
    {
     "name": "stdout",
     "output_type": "stream",
     "text": [
      "The autoreload extension is already loaded. To reload it, use:\n",
      "  %reload_ext autoreload\n"
     ]
    }
   ],
   "source": [
    "import os\n",
    "import glob\n",
    "\n",
    "import pandas as pd\n",
    "from hackathon import submission_gen\n",
    "\n",
    "%load_ext autoreload\n",
    "%autoreload 2"
   ]
  },
  {
   "cell_type": "code",
   "execution_count": 20,
   "id": "998330e1",
   "metadata": {
    "ExecuteTime": {
     "end_time": "2023-11-09T10:56:03.667370Z",
     "start_time": "2023-11-09T10:56:03.632726Z"
    }
   },
   "outputs": [],
   "source": [
    "datapath = os.path.abspath('/Users/ids_engine/code/Nietzson/hackathon2/NSCLC/nnunet_pred/test_pred/')"
   ]
  },
  {
   "cell_type": "code",
   "execution_count": 23,
   "id": "96ab867e",
   "metadata": {
    "ExecuteTime": {
     "end_time": "2023-11-09T10:58:37.603095Z",
     "start_time": "2023-11-09T10:58:37.551078Z"
    }
   },
   "outputs": [
    {
     "data": {
      "text/plain": [
       "['/Users/ids_engine/code/Nietzson/hackathon2/NSCLC/nnunet_pred/test_pred/LUNG1_071.nii.gz',\n",
       " '/Users/ids_engine/code/Nietzson/hackathon2/NSCLC/nnunet_pred/test_pred/LUNG1_012.nii.gz',\n",
       " '/Users/ids_engine/code/Nietzson/hackathon2/NSCLC/nnunet_pred/test_pred/LUNG1_063.nii.gz',\n",
       " '/Users/ids_engine/code/Nietzson/hackathon2/NSCLC/nnunet_pred/test_pred/LUNG1_100.nii.gz',\n",
       " '/Users/ids_engine/code/Nietzson/hackathon2/NSCLC/nnunet_pred/test_pred/LUNG1_028.nii.gz',\n",
       " '/Users/ids_engine/code/Nietzson/hackathon2/NSCLC/nnunet_pred/test_pred/LUNG1_055.nii.gz',\n",
       " '/Users/ids_engine/code/Nietzson/hackathon2/NSCLC/nnunet_pred/test_pred/LUNG1_036.nii.gz',\n",
       " '/Users/ids_engine/code/Nietzson/hackathon2/NSCLC/nnunet_pred/test_pred/LUNG1_047.nii.gz',\n",
       " '/Users/ids_engine/code/Nietzson/hackathon2/NSCLC/nnunet_pred/test_pred/LUNG1_024.nii.gz',\n",
       " '/Users/ids_engine/code/Nietzson/hackathon2/NSCLC/nnunet_pred/test_pred/LUNG1_059.nii.gz',\n",
       " '/Users/ids_engine/code/Nietzson/hackathon2/NSCLC/nnunet_pred/test_pred/LUNG1_090.nii.gz',\n",
       " '/Users/ids_engine/code/Nietzson/hackathon2/NSCLC/nnunet_pred/test_pred/LUNG1_082.nii.gz',\n",
       " '/Users/ids_engine/code/Nietzson/hackathon2/NSCLC/nnunet_pred/test_pred/LUNG1_080.nii.gz',\n",
       " '/Users/ids_engine/code/Nietzson/hackathon2/NSCLC/nnunet_pred/test_pred/LUNG1_092.nii.gz',\n",
       " '/Users/ids_engine/code/Nietzson/hackathon2/NSCLC/nnunet_pred/test_pred/LUNG1_002.nii.gz',\n",
       " '/Users/ids_engine/code/Nietzson/hackathon2/NSCLC/nnunet_pred/test_pred/LUNG1_061.nii.gz',\n",
       " '/Users/ids_engine/code/Nietzson/hackathon2/NSCLC/nnunet_pred/test_pred/LUNG1_010.nii.gz',\n",
       " '/Users/ids_engine/code/Nietzson/hackathon2/NSCLC/nnunet_pred/test_pred/LUNG1_073.nii.gz',\n",
       " '/Users/ids_engine/code/Nietzson/hackathon2/NSCLC/nnunet_pred/test_pred/LUNG1_026.nii.gz',\n",
       " '/Users/ids_engine/code/Nietzson/hackathon2/NSCLC/nnunet_pred/test_pred/LUNG1_038.nii.gz',\n",
       " '/Users/ids_engine/code/Nietzson/hackathon2/NSCLC/nnunet_pred/test_pred/LUNG1_045.nii.gz',\n",
       " '/Users/ids_engine/code/Nietzson/hackathon2/NSCLC/nnunet_pred/test_pred/LUNG1_034.nii.gz',\n",
       " '/Users/ids_engine/code/Nietzson/hackathon2/NSCLC/nnunet_pred/test_pred/LUNG1_049.nii.gz',\n",
       " '/Users/ids_engine/code/Nietzson/hackathon2/NSCLC/nnunet_pred/test_pred/LUNG1_057.nii.gz',\n",
       " '/Users/ids_engine/code/Nietzson/hackathon2/NSCLC/nnunet_pred/test_pred/LUNG1_096.nii.gz',\n",
       " '/Users/ids_engine/code/Nietzson/hackathon2/NSCLC/nnunet_pred/test_pred/LUNG1_088.nii.gz',\n",
       " '/Users/ids_engine/code/Nietzson/hackathon2/NSCLC/nnunet_pred/test_pred/LUNG1_084.nii.gz',\n",
       " '/Users/ids_engine/code/Nietzson/hackathon2/NSCLC/nnunet_pred/test_pred/LUNG1_030.nii.gz',\n",
       " '/Users/ids_engine/code/Nietzson/hackathon2/NSCLC/nnunet_pred/test_pred/LUNG1_053.nii.gz',\n",
       " '/Users/ids_engine/code/Nietzson/hackathon2/NSCLC/nnunet_pred/test_pred/LUNG1_022.nii.gz',\n",
       " '/Users/ids_engine/code/Nietzson/hackathon2/NSCLC/nnunet_pred/test_pred/LUNG1_041.nii.gz',\n",
       " '/Users/ids_engine/code/Nietzson/hackathon2/NSCLC/nnunet_pred/test_pred/LUNG1_069.nii.gz',\n",
       " '/Users/ids_engine/code/Nietzson/hackathon2/NSCLC/nnunet_pred/test_pred/LUNG1_014.nii.gz',\n",
       " '/Users/ids_engine/code/Nietzson/hackathon2/NSCLC/nnunet_pred/test_pred/LUNG1_077.nii.gz',\n",
       " '/Users/ids_engine/code/Nietzson/hackathon2/NSCLC/nnunet_pred/test_pred/LUNG1_006.nii.gz',\n",
       " '/Users/ids_engine/code/Nietzson/hackathon2/NSCLC/nnunet_pred/test_pred/LUNG1_065.nii.gz',\n",
       " '/Users/ids_engine/code/Nietzson/hackathon2/NSCLC/nnunet_pred/test_pred/LUNG1_018.nii.gz',\n",
       " '/Users/ids_engine/code/Nietzson/hackathon2/NSCLC/nnunet_pred/test_pred/LUNG1_043.nii.gz',\n",
       " '/Users/ids_engine/code/Nietzson/hackathon2/NSCLC/nnunet_pred/test_pred/LUNG1_020.nii.gz',\n",
       " '/Users/ids_engine/code/Nietzson/hackathon2/NSCLC/nnunet_pred/test_pred/LUNG1_051.nii.gz',\n",
       " '/Users/ids_engine/code/Nietzson/hackathon2/NSCLC/nnunet_pred/test_pred/LUNG1_032.nii.gz',\n",
       " '/Users/ids_engine/code/Nietzson/hackathon2/NSCLC/nnunet_pred/test_pred/LUNG1_067.nii.gz',\n",
       " '/Users/ids_engine/code/Nietzson/hackathon2/NSCLC/nnunet_pred/test_pred/LUNG1_079.nii.gz',\n",
       " '/Users/ids_engine/code/Nietzson/hackathon2/NSCLC/nnunet_pred/test_pred/LUNG1_004.nii.gz',\n",
       " '/Users/ids_engine/code/Nietzson/hackathon2/NSCLC/nnunet_pred/test_pred/LUNG1_075.nii.gz',\n",
       " '/Users/ids_engine/code/Nietzson/hackathon2/NSCLC/nnunet_pred/test_pred/LUNG1_008.nii.gz',\n",
       " '/Users/ids_engine/code/Nietzson/hackathon2/NSCLC/nnunet_pred/test_pred/LUNG1_016.nii.gz',\n",
       " '/Users/ids_engine/code/Nietzson/hackathon2/NSCLC/nnunet_pred/test_pred/LUNG1_098.nii.gz',\n",
       " '/Users/ids_engine/code/Nietzson/hackathon2/NSCLC/nnunet_pred/test_pred/LUNG1_086.nii.gz',\n",
       " '/Users/ids_engine/code/Nietzson/hackathon2/NSCLC/nnunet_pred/test_pred/LUNG1_094.nii.gz',\n",
       " '/Users/ids_engine/code/Nietzson/hackathon2/NSCLC/nnunet_pred/test_pred/LUNG1_091.nii.gz',\n",
       " '/Users/ids_engine/code/Nietzson/hackathon2/NSCLC/nnunet_pred/test_pred/LUNG1_083.nii.gz',\n",
       " '/Users/ids_engine/code/Nietzson/hackathon2/NSCLC/nnunet_pred/test_pred/LUNG1_037.nii.gz',\n",
       " '/Users/ids_engine/code/Nietzson/hackathon2/NSCLC/nnunet_pred/test_pred/LUNG1_054.nii.gz',\n",
       " '/Users/ids_engine/code/Nietzson/hackathon2/NSCLC/nnunet_pred/test_pred/LUNG1_029.nii.gz',\n",
       " '/Users/ids_engine/code/Nietzson/hackathon2/NSCLC/nnunet_pred/test_pred/LUNG1_058.nii.gz',\n",
       " '/Users/ids_engine/code/Nietzson/hackathon2/NSCLC/nnunet_pred/test_pred/LUNG1_025.nii.gz',\n",
       " '/Users/ids_engine/code/Nietzson/hackathon2/NSCLC/nnunet_pred/test_pred/LUNG1_046.nii.gz',\n",
       " '/Users/ids_engine/code/Nietzson/hackathon2/NSCLC/nnunet_pred/test_pred/LUNG1_013.nii.gz',\n",
       " '/Users/ids_engine/code/Nietzson/hackathon2/NSCLC/nnunet_pred/test_pred/LUNG1_070.nii.gz',\n",
       " '/Users/ids_engine/code/Nietzson/hackathon2/NSCLC/nnunet_pred/test_pred/LUNG1_001.nii.gz',\n",
       " '/Users/ids_engine/code/Nietzson/hackathon2/NSCLC/nnunet_pred/test_pred/LUNG1_062.nii.gz',\n",
       " '/Users/ids_engine/code/Nietzson/hackathon2/NSCLC/nnunet_pred/test_pred/LUNG1_044.nii.gz',\n",
       " '/Users/ids_engine/code/Nietzson/hackathon2/NSCLC/nnunet_pred/test_pred/LUNG1_039.nii.gz',\n",
       " '/Users/ids_engine/code/Nietzson/hackathon2/NSCLC/nnunet_pred/test_pred/LUNG1_027.nii.gz',\n",
       " '/Users/ids_engine/code/Nietzson/hackathon2/NSCLC/nnunet_pred/test_pred/LUNG1_056.nii.gz',\n",
       " '/Users/ids_engine/code/Nietzson/hackathon2/NSCLC/nnunet_pred/test_pred/LUNG1_048.nii.gz',\n",
       " '/Users/ids_engine/code/Nietzson/hackathon2/NSCLC/nnunet_pred/test_pred/LUNG1_035.nii.gz',\n",
       " '/Users/ids_engine/code/Nietzson/hackathon2/NSCLC/nnunet_pred/test_pred/LUNG1_060.nii.gz',\n",
       " '/Users/ids_engine/code/Nietzson/hackathon2/NSCLC/nnunet_pred/test_pred/LUNG1_003.nii.gz',\n",
       " '/Users/ids_engine/code/Nietzson/hackathon2/NSCLC/nnunet_pred/test_pred/LUNG1_072.nii.gz',\n",
       " '/Users/ids_engine/code/Nietzson/hackathon2/NSCLC/nnunet_pred/test_pred/LUNG1_011.nii.gz',\n",
       " '/Users/ids_engine/code/Nietzson/hackathon2/NSCLC/nnunet_pred/test_pred/LUNG1_081.nii.gz',\n",
       " '/Users/ids_engine/code/Nietzson/hackathon2/NSCLC/nnunet_pred/test_pred/LUNG1_093.nii.gz',\n",
       " '/Users/ids_engine/code/Nietzson/hackathon2/NSCLC/nnunet_pred/test_pred/LUNG1_076.nii.gz',\n",
       " '/Users/ids_engine/code/Nietzson/hackathon2/NSCLC/nnunet_pred/test_pred/LUNG1_015.nii.gz',\n",
       " '/Users/ids_engine/code/Nietzson/hackathon2/NSCLC/nnunet_pred/test_pred/LUNG1_068.nii.gz',\n",
       " '/Users/ids_engine/code/Nietzson/hackathon2/NSCLC/nnunet_pred/test_pred/LUNG1_019.nii.gz',\n",
       " '/Users/ids_engine/code/Nietzson/hackathon2/NSCLC/nnunet_pred/test_pred/LUNG1_064.nii.gz',\n",
       " '/Users/ids_engine/code/Nietzson/hackathon2/NSCLC/nnunet_pred/test_pred/LUNG1_007.nii.gz',\n",
       " '/Users/ids_engine/code/Nietzson/hackathon2/NSCLC/nnunet_pred/test_pred/LUNG1_052.nii.gz',\n",
       " '/Users/ids_engine/code/Nietzson/hackathon2/NSCLC/nnunet_pred/test_pred/LUNG1_031.nii.gz',\n",
       " '/Users/ids_engine/code/Nietzson/hackathon2/NSCLC/nnunet_pred/test_pred/LUNG1_040.nii.gz',\n",
       " '/Users/ids_engine/code/Nietzson/hackathon2/NSCLC/nnunet_pred/test_pred/LUNG1_023.nii.gz',\n",
       " '/Users/ids_engine/code/Nietzson/hackathon2/NSCLC/nnunet_pred/test_pred/LUNG1_089.nii.gz',\n",
       " '/Users/ids_engine/code/Nietzson/hackathon2/NSCLC/nnunet_pred/test_pred/LUNG1_097.nii.gz',\n",
       " '/Users/ids_engine/code/Nietzson/hackathon2/NSCLC/nnunet_pred/test_pred/LUNG1_085.nii.gz',\n",
       " '/Users/ids_engine/code/Nietzson/hackathon2/NSCLC/nnunet_pred/test_pred/LUNG1_087.nii.gz',\n",
       " '/Users/ids_engine/code/Nietzson/hackathon2/NSCLC/nnunet_pred/test_pred/LUNG1_099.nii.gz',\n",
       " '/Users/ids_engine/code/Nietzson/hackathon2/NSCLC/nnunet_pred/test_pred/LUNG1_095.nii.gz',\n",
       " '/Users/ids_engine/code/Nietzson/hackathon2/NSCLC/nnunet_pred/test_pred/LUNG1_005.nii.gz',\n",
       " '/Users/ids_engine/code/Nietzson/hackathon2/NSCLC/nnunet_pred/test_pred/LUNG1_078.nii.gz',\n",
       " '/Users/ids_engine/code/Nietzson/hackathon2/NSCLC/nnunet_pred/test_pred/LUNG1_066.nii.gz',\n",
       " '/Users/ids_engine/code/Nietzson/hackathon2/NSCLC/nnunet_pred/test_pred/LUNG1_017.nii.gz',\n",
       " '/Users/ids_engine/code/Nietzson/hackathon2/NSCLC/nnunet_pred/test_pred/LUNG1_009.nii.gz',\n",
       " '/Users/ids_engine/code/Nietzson/hackathon2/NSCLC/nnunet_pred/test_pred/LUNG1_074.nii.gz',\n",
       " '/Users/ids_engine/code/Nietzson/hackathon2/NSCLC/nnunet_pred/test_pred/LUNG1_021.nii.gz',\n",
       " '/Users/ids_engine/code/Nietzson/hackathon2/NSCLC/nnunet_pred/test_pred/LUNG1_042.nii.gz',\n",
       " '/Users/ids_engine/code/Nietzson/hackathon2/NSCLC/nnunet_pred/test_pred/LUNG1_033.nii.gz',\n",
       " '/Users/ids_engine/code/Nietzson/hackathon2/NSCLC/nnunet_pred/test_pred/LUNG1_050.nii.gz']"
      ]
     },
     "execution_count": 23,
     "metadata": {},
     "output_type": "execute_result"
    }
   ],
   "source": [
    "filelist = glob.glob(f\"{datapath}/*\")\n",
    "filelist"
   ]
  },
  {
   "cell_type": "code",
   "execution_count": 32,
   "id": "337400de",
   "metadata": {
    "ExecuteTime": {
     "end_time": "2023-11-09T11:03:02.669273Z",
     "start_time": "2023-11-09T11:03:02.376260Z"
    }
   },
   "outputs": [],
   "source": [
    "for file in filelist:\n",
    "    filename = file.split('/')[-1]\n",
    "    newname = filename.split('_')[0] + '-' + filename.split('_')[1][:-7] + '_seg.nii.gz'\n",
    "#     print(f\"{'/'.join(file.split('/')[:-1])}/{newname}\")\n",
    "    os.system(f\"mv {file} {'/'.join(file.split('/')[:-1])}/{newname}\")"
   ]
  },
  {
   "cell_type": "code",
   "execution_count": 33,
   "id": "cb72f3de",
   "metadata": {
    "ExecuteTime": {
     "end_time": "2023-11-09T11:04:18.450753Z",
     "start_time": "2023-11-09T11:03:08.266897Z"
    }
   },
   "outputs": [
    {
     "data": {
      "text/plain": [
       "'submission file saved at /Users/ids_engine/code/Nietzson/hackathon2/NSCLC/nnunet_pred/nnunet_submission.csv'"
      ]
     },
     "execution_count": 33,
     "metadata": {},
     "output_type": "execute_result"
    }
   ],
   "source": [
    "submission_gen.submission_gen(predpath = datapath, outputpath = '/Users/ids_engine/code/Nietzson/hackathon2/NSCLC/nnunet_pred/nnunet_submission.csv')"
   ]
  },
  {
   "cell_type": "code",
   "execution_count": 34,
   "id": "c751c23b",
   "metadata": {
    "ExecuteTime": {
     "end_time": "2023-11-09T11:04:18.490997Z",
     "start_time": "2023-11-09T11:04:18.452099Z"
    }
   },
   "outputs": [
    {
     "data": {
      "text/html": [
       "<div>\n",
       "<style scoped>\n",
       "    .dataframe tbody tr th:only-of-type {\n",
       "        vertical-align: middle;\n",
       "    }\n",
       "\n",
       "    .dataframe tbody tr th {\n",
       "        vertical-align: top;\n",
       "    }\n",
       "\n",
       "    .dataframe thead th {\n",
       "        text-align: right;\n",
       "    }\n",
       "</style>\n",
       "<table border=\"1\" class=\"dataframe\">\n",
       "  <thead>\n",
       "    <tr style=\"text-align: right;\">\n",
       "      <th></th>\n",
       "      <th>id</th>\n",
       "      <th>rle</th>\n",
       "      <th>recist</th>\n",
       "      <th>volume</th>\n",
       "      <th>data_shape</th>\n",
       "    </tr>\n",
       "  </thead>\n",
       "  <tbody>\n",
       "    <tr>\n",
       "      <th>0</th>\n",
       "      <td>LUNG1-001</td>\n",
       "      <td>10875667 1 10875801 1 10875935 1 10876069 2 10...</td>\n",
       "      <td>104.784027</td>\n",
       "      <td>323.30</td>\n",
       "      <td>(512, 512, 134)</td>\n",
       "    </tr>\n",
       "    <tr>\n",
       "      <th>1</th>\n",
       "      <td>LUNG1-002</td>\n",
       "      <td>13304149 1 13304240 1 13304422 1 13304513 1 13...</td>\n",
       "      <td>40.992562</td>\n",
       "      <td>12.59</td>\n",
       "      <td>(512, 512, 91)</td>\n",
       "    </tr>\n",
       "    <tr>\n",
       "      <th>2</th>\n",
       "      <td>LUNG1-003</td>\n",
       "      <td>6691840 1 6691953 3 6692067 3 6692181 3 669229...</td>\n",
       "      <td>70.509091</td>\n",
       "      <td>92.95</td>\n",
       "      <td>(512, 512, 114)</td>\n",
       "    </tr>\n",
       "    <tr>\n",
       "      <th>3</th>\n",
       "      <td>LUNG1-004</td>\n",
       "      <td>21598408 2 21598528 3 21598649 3 21598770 3 21...</td>\n",
       "      <td>60.381006</td>\n",
       "      <td>68.13</td>\n",
       "      <td>(512, 512, 121)</td>\n",
       "    </tr>\n",
       "    <tr>\n",
       "      <th>4</th>\n",
       "      <td>LUNG1-005</td>\n",
       "      <td>9259008 1 9259116 1 9314196 1 9314304 1 931441...</td>\n",
       "      <td>16.601758</td>\n",
       "      <td>0.70</td>\n",
       "      <td>(512, 512, 108)</td>\n",
       "    </tr>\n",
       "    <tr>\n",
       "      <th>...</th>\n",
       "      <td>...</td>\n",
       "      <td>...</td>\n",
       "      <td>...</td>\n",
       "      <td>...</td>\n",
       "      <td>...</td>\n",
       "    </tr>\n",
       "    <tr>\n",
       "      <th>95</th>\n",
       "      <td>LUNG1-096</td>\n",
       "      <td>10187977 1 10188111 1 10188245 1 10188379 2 10...</td>\n",
       "      <td>34.346882</td>\n",
       "      <td>10.27</td>\n",
       "      <td>(512, 512, 134)</td>\n",
       "    </tr>\n",
       "    <tr>\n",
       "      <th>96</th>\n",
       "      <td>LUNG1-097</td>\n",
       "      <td>18761691 1 18829495 1 18829629 1 18829763 1 18...</td>\n",
       "      <td>83.074376</td>\n",
       "      <td>89.68</td>\n",
       "      <td>(512, 512, 134)</td>\n",
       "    </tr>\n",
       "    <tr>\n",
       "      <th>97</th>\n",
       "      <td>LUNG1-098</td>\n",
       "      <td>14989193 1 14989326 2 14989459 3 14989593 3 14...</td>\n",
       "      <td>38.786940</td>\n",
       "      <td>48.82</td>\n",
       "      <td>(512, 512, 134)</td>\n",
       "    </tr>\n",
       "    <tr>\n",
       "      <th>98</th>\n",
       "      <td>LUNG1-099</td>\n",
       "      <td>10020770 1 10020892 2 10021014 2 10021136 2 10...</td>\n",
       "      <td>16.370365</td>\n",
       "      <td>1.43</td>\n",
       "      <td>(512, 512, 122)</td>\n",
       "    </tr>\n",
       "    <tr>\n",
       "      <th>99</th>\n",
       "      <td>LUNG1-100</td>\n",
       "      <td>12209520 1 12209636 2 12209752 2 12209868 2 12...</td>\n",
       "      <td>43.768622</td>\n",
       "      <td>32.06</td>\n",
       "      <td>(512, 512, 116)</td>\n",
       "    </tr>\n",
       "  </tbody>\n",
       "</table>\n",
       "<p>100 rows × 5 columns</p>\n",
       "</div>"
      ],
      "text/plain": [
       "           id                                                rle      recist  \\\n",
       "0   LUNG1-001  10875667 1 10875801 1 10875935 1 10876069 2 10...  104.784027   \n",
       "1   LUNG1-002  13304149 1 13304240 1 13304422 1 13304513 1 13...   40.992562   \n",
       "2   LUNG1-003  6691840 1 6691953 3 6692067 3 6692181 3 669229...   70.509091   \n",
       "3   LUNG1-004  21598408 2 21598528 3 21598649 3 21598770 3 21...   60.381006   \n",
       "4   LUNG1-005  9259008 1 9259116 1 9314196 1 9314304 1 931441...   16.601758   \n",
       "..        ...                                                ...         ...   \n",
       "95  LUNG1-096  10187977 1 10188111 1 10188245 1 10188379 2 10...   34.346882   \n",
       "96  LUNG1-097  18761691 1 18829495 1 18829629 1 18829763 1 18...   83.074376   \n",
       "97  LUNG1-098  14989193 1 14989326 2 14989459 3 14989593 3 14...   38.786940   \n",
       "98  LUNG1-099  10020770 1 10020892 2 10021014 2 10021136 2 10...   16.370365   \n",
       "99  LUNG1-100  12209520 1 12209636 2 12209752 2 12209868 2 12...   43.768622   \n",
       "\n",
       "    volume       data_shape  \n",
       "0   323.30  (512, 512, 134)  \n",
       "1    12.59   (512, 512, 91)  \n",
       "2    92.95  (512, 512, 114)  \n",
       "3    68.13  (512, 512, 121)  \n",
       "4     0.70  (512, 512, 108)  \n",
       "..     ...              ...  \n",
       "95   10.27  (512, 512, 134)  \n",
       "96   89.68  (512, 512, 134)  \n",
       "97   48.82  (512, 512, 134)  \n",
       "98    1.43  (512, 512, 122)  \n",
       "99   32.06  (512, 512, 116)  \n",
       "\n",
       "[100 rows x 5 columns]"
      ]
     },
     "execution_count": 34,
     "metadata": {},
     "output_type": "execute_result"
    }
   ],
   "source": [
    "df = pd.read_csv('/Users/ids_engine/code/Nietzson/hackathon2/NSCLC/nnunet_pred/nnunet_submission.csv')\n",
    "df"
   ]
  },
  {
   "cell_type": "code",
   "execution_count": null,
   "id": "4f8728cc",
   "metadata": {},
   "outputs": [],
   "source": []
  }
 ],
 "metadata": {
  "kernelspec": {
   "display_name": "Python 3 (ipykernel)",
   "language": "python",
   "name": "python3"
  },
  "language_info": {
   "codemirror_mode": {
    "name": "ipython",
    "version": 3
   },
   "file_extension": ".py",
   "mimetype": "text/x-python",
   "name": "python",
   "nbconvert_exporter": "python",
   "pygments_lexer": "ipython3",
   "version": "3.8.12"
  },
  "toc": {
   "base_numbering": 1,
   "nav_menu": {},
   "number_sections": true,
   "sideBar": true,
   "skip_h1_title": false,
   "title_cell": "Table of Contents",
   "title_sidebar": "Contents",
   "toc_cell": false,
   "toc_position": {},
   "toc_section_display": true,
   "toc_window_display": false
  }
 },
 "nbformat": 4,
 "nbformat_minor": 5
}
